{
 "cells": [
  {
   "cell_type": "code",
   "execution_count": 28,
   "id": "971ae977",
   "metadata": {},
   "outputs": [
    {
     "name": "stdout",
     "output_type": "stream",
     "text": [
      "Requirement already satisfied: numpy in c:\\users\\jahnvi aghera\\desktop\\sem 5\\ml\\github\\ml\\.venv\\lib\\site-packages (2.3.1)\n",
      "Requirement already satisfied: matplotlib in c:\\users\\jahnvi aghera\\desktop\\sem 5\\ml\\github\\ml\\.venv\\lib\\site-packages (3.10.3)\n",
      "Requirement already satisfied: pandas in c:\\users\\jahnvi aghera\\desktop\\sem 5\\ml\\github\\ml\\.venv\\lib\\site-packages (2.3.1)\n",
      "Requirement already satisfied: kagglehub in c:\\users\\jahnvi aghera\\desktop\\sem 5\\ml\\github\\ml\\.venv\\lib\\site-packages (0.3.12)\n",
      "Note: you may need to restart the kernel to use updated packages.\n"
     ]
    },
    {
     "name": "stderr",
     "output_type": "stream",
     "text": [
      "Could not find platform independent libraries <prefix>\n",
      "ERROR: Could not find a version that satisfies the requirement os (from versions: none)\n",
      "ERROR: No matching distribution found for os\n"
     ]
    }
   ],
   "source": [
    "%pip install numpy matplotlib pandas kagglehub pandas os seaborn "
   ]
  },
  {
   "cell_type": "code",
   "execution_count": 19,
   "id": "7df1b7b9",
   "metadata": {},
   "outputs": [
    {
     "name": "stderr",
     "output_type": "stream",
     "text": [
      "c:\\Users\\JAHNVI AGHERA\\Desktop\\SEM 5\\ML\\GitHub\\ML\\.venv\\Lib\\site-packages\\tqdm\\auto.py:21: TqdmWarning: IProgress not found. Please update jupyter and ipywidgets. See https://ipywidgets.readthedocs.io/en/stable/user_install.html\n",
      "  from .autonotebook import tqdm as notebook_tqdm\n"
     ]
    },
    {
     "name": "stdout",
     "output_type": "stream",
     "text": [
      "Path to dataset files: C:\\Users\\JAHNVI AGHERA\\.cache\\kagglehub\\datasets\\stackoverflow\\stack-overflow-2018-developer-survey\\versions\\2\n"
     ]
    }
   ],
   "source": [
    "import kagglehub\n",
    "\n",
    "# Download latest version\n",
    "path = kagglehub.dataset_download(\"stackoverflow/stack-overflow-2018-developer-survey\")\n",
    "\n",
    "print(\"Path to dataset files:\", path)"
   ]
  },
  {
   "cell_type": "markdown",
   "id": "c7e63476",
   "metadata": {},
   "source": [
    "## OR"
   ]
  },
  {
   "cell_type": "code",
   "execution_count": 6,
   "id": "c94dc60b",
   "metadata": {},
   "outputs": [],
   "source": [
    "import os\n",
    "os.environ[r'../kaggle.json'] = r'/dataset'\n"
   ]
  },
  {
   "cell_type": "code",
   "execution_count": 18,
   "id": "62c0edc2",
   "metadata": {},
   "outputs": [
    {
     "name": "stderr",
     "output_type": "stream",
     "text": [
      "'kaggle' is not recognized as an internal or external command,\n",
      "operable program or batch file.\n"
     ]
    }
   ],
   "source": [
    "!kaggle datasets download -d stackoverflow/stack-overflow-2018-developer-survey -p dataset"
   ]
  },
  {
   "cell_type": "markdown",
   "id": "036402a2",
   "metadata": {},
   "source": [
    "--------------------"
   ]
  },
  {
   "cell_type": "code",
   "execution_count": 23,
   "id": "62b9b364",
   "metadata": {},
   "outputs": [],
   "source": [
    "import pandas as pd\n",
    "data = pd.read_csv(path + \"/survey_results_public.csv\", low_memory=False)\n",
    "data2 = pd.read_csv(path + \"/survey_results_schema.csv\", low_memory=False)"
   ]
  },
  {
   "cell_type": "code",
   "execution_count": 29,
   "id": "a4894b91",
   "metadata": {},
   "outputs": [
    {
     "data": {
      "text/plain": [
       "(98855, 129)"
      ]
     },
     "execution_count": 29,
     "metadata": {},
     "output_type": "execute_result"
    }
   ],
   "source": [
    "data.shape"
   ]
  },
  {
   "cell_type": "code",
   "execution_count": 31,
   "id": "006c0b8b",
   "metadata": {},
   "outputs": [
    {
     "data": {
      "text/plain": [
       "(129, 2)"
      ]
     },
     "execution_count": 31,
     "metadata": {},
     "output_type": "execute_result"
    }
   ],
   "source": [
    "data2.shape"
   ]
  },
  {
   "cell_type": "markdown",
   "id": "c4daf5fe",
   "metadata": {},
   "source": [
    "## Post Lab\n",
    "1) count the number of null values in each features\n",
    "2) count the perscentage of null values\n",
    "3) draw the pie chart fo rnumber of people who find coding as hobby\n",
    "4) Determine the number of people contrubuting to open source projects\n",
    "5) Determine the top 20 countries from where the responses are obtained\n",
    "6) Do other 5 analysis as per yoyur own thinking (which involves different graphs or charts)"
   ]
  }
 ],
 "metadata": {
  "kernelspec": {
   "display_name": ".venv (3.13.3)",
   "language": "python",
   "name": "python3"
  },
  "language_info": {
   "codemirror_mode": {
    "name": "ipython",
    "version": 3
   },
   "file_extension": ".py",
   "mimetype": "text/x-python",
   "name": "python",
   "nbconvert_exporter": "python",
   "pygments_lexer": "ipython3",
   "version": "3.13.3"
  }
 },
 "nbformat": 4,
 "nbformat_minor": 5
}
